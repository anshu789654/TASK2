{
 "cells": [
  {
   "cell_type": "markdown",
   "metadata": {},
   "source": [
    "# Task 2 "
   ]
  },
  {
   "cell_type": "code",
   "execution_count": 237,
   "metadata": {},
   "outputs": [],
   "source": [
    "import pandas as pd"
   ]
  },
  {
   "cell_type": "code",
   "execution_count": 238,
   "metadata": {},
   "outputs": [],
   "source": [
    "df=pd.read_csv(\"ipldata\\matches.csv\")"
   ]
  },
  {
   "cell_type": "markdown",
   "metadata": {},
   "source": [
    "## Which team has won/lost maximum number of matches while chasing?"
   ]
  },
  {
   "cell_type": "markdown",
   "metadata": {},
   "source": [
    "## WON"
   ]
  },
  {
   "cell_type": "code",
   "execution_count": 243,
   "metadata": {},
   "outputs": [
    {
     "data": {
      "text/plain": [
       "('Kolkata Knight Riders', 58)"
      ]
     },
     "execution_count": 243,
     "metadata": {},
     "output_type": "execute_result"
    }
   ],
   "source": [
    "chasers = df.loc[df['team2'] == df['winner']]\n",
    "chasers['winner'].value_counts()[:1].idxmax(),chasers['winner'].value_counts()[:1][0]\n"
   ]
  },
  {
   "cell_type": "markdown",
   "metadata": {},
   "source": [
    "## LOST"
   ]
  },
  {
   "cell_type": "code",
   "execution_count": 245,
   "metadata": {},
   "outputs": [
    {
     "data": {
      "text/plain": [
       "('Mumbai Indians', 58)"
      ]
     },
     "execution_count": 245,
     "metadata": {},
     "output_type": "execute_result"
    }
   ],
   "source": [
    "chaselost = df.loc[df['team2'] != df['winner']]\n",
    "chaselost['winner'].value_counts()[:1].idxmax(),chaselost['winner'].value_counts()[:1][0]"
   ]
  },
  {
   "cell_type": "markdown",
   "metadata": {},
   "source": [
    "## Which toss decision is best for each ground?"
   ]
  },
  {
   "cell_type": "code",
   "execution_count": 251,
   "metadata": {},
   "outputs": [
    {
     "name": "stdout",
     "output_type": "stream",
     "text": [
      "venue\n",
      "ACA-VDCA Stadium                                        Bowl First\n",
      "Barabati Stadium                                         Bat First\n",
      "Brabourne Stadium                                        Bat First\n",
      "Buffalo Park                                             Bat First\n",
      "De Beers Diamond Oval                                   Bowl First\n",
      "Dr DY Patil Sports Academy                              Bowl First\n",
      "Dr. Y.S. Rajasekhara Reddy ACA-VDCA Cricket Stadium      Bat First\n",
      "Dubai International Cricket Stadium                     Bowl First\n",
      "Eden Gardens                                            Bowl First\n",
      "Feroz Shah Kotla                                        Bowl First\n",
      "Feroz Shah Kotla Ground                                 Bowl First\n",
      "Green Park                                              Bowl First\n",
      "Himachal Pradesh Cricket Association Stadium             Bat First\n",
      "Holkar Cricket Stadium                                  Bowl First\n",
      "IS Bindra Stadium                                       Bowl First\n",
      "JSCA International Stadium Complex                      Bowl First\n",
      "Kingsmead                                                Bat First\n",
      "M Chinnaswamy Stadium                                   Bowl First\n",
      "M. A. Chidambaram Stadium                               Bowl First\n",
      "M. Chinnaswamy Stadium                                  Bowl First\n",
      "MA Chidambaram Stadium, Chepauk                          Bat First\n",
      "Maharashtra Cricket Association Stadium                 Bowl First\n",
      "Nehru Stadium                                            Bat First\n",
      "New Wanderers Stadium                                   Bowl First\n",
      "Newlands                                                 Bat First\n",
      "OUTsurance Oval                                         Bowl First\n",
      "Punjab Cricket Association IS Bindra Stadium, Mohali    Bowl First\n",
      "Punjab Cricket Association Stadium, Mohali              Bowl First\n",
      "Rajiv Gandhi International Stadium, Uppal               Bowl First\n",
      "Rajiv Gandhi Intl. Cricket Stadium                       Bat First\n",
      "Sardar Patel Stadium, Motera                            Bowl First\n",
      "Saurashtra Cricket Association Stadium                  Bowl First\n",
      "Sawai Mansingh Stadium                                  Bowl First\n",
      "Shaheed Veer Narayan Singh International Stadium        Bowl First\n",
      "Sharjah Cricket Stadium                                 Bowl First\n",
      "Sheikh Zayed Stadium                                     Bat First\n",
      "St George's Park                                        Bowl First\n",
      "Subrata Roy Sahara Stadium                               Bat First\n",
      "SuperSport Park                                         Bowl First\n",
      "Vidarbha Cricket Association Stadium, Jamtha             Bat First\n",
      "Wankhede Stadium                                        Bowl First\n",
      "Name: winner, dtype: object\n"
     ]
    }
   ],
   "source": [
    "team2wins = chasers.groupby(\"venue\")[\"winner\"].count().to_frame()\n",
    "battingfirst = df.loc[df['team1'] == df['winner']]\n",
    "team1wins = battingfirst.groupby(\"venue\")['winner'].count().to_frame()\n",
    "ans = team1wins['winner'] - team2wins['winner']\n",
    "ans.fillna(\"Chase First\")\n",
    "descision= ans.apply(lambda i:('Bat First' if i > 0 else 'Bowl First'))\n",
    "print(descision)"
   ]
  },
  {
   "cell_type": "code",
   "execution_count": null,
   "metadata": {},
   "outputs": [],
   "source": []
  },
  {
   "cell_type": "markdown",
   "metadata": {},
   "source": [
    "## Which player has won maximum number of MoM awards while chasing?\n"
   ]
  },
  {
   "cell_type": "code",
   "execution_count": 253,
   "metadata": {},
   "outputs": [],
   "source": [
    "mom = df.query('team2 == winner')"
   ]
  },
  {
   "cell_type": "code",
   "execution_count": 254,
   "metadata": {},
   "outputs": [
    {
     "data": {
      "text/plain": [
       "player_of_match\n",
       "YK Pathan    11\n",
       "CH Gayle     10\n",
       "G Gambhir    10\n",
       "Name: player_of_match, dtype: int64"
      ]
     },
     "execution_count": 254,
     "metadata": {},
     "output_type": "execute_result"
    }
   ],
   "source": [
    "f = mom.groupby('player_of_match')['player_of_match'].count()\n",
    "f.sort_values(ascending = False)[:3]"
   ]
  },
  {
   "cell_type": "markdown",
   "metadata": {},
   "source": [
    "## Which batsman has played maximum number of dot balls?\n"
   ]
  },
  {
   "cell_type": "code",
   "execution_count": 255,
   "metadata": {},
   "outputs": [],
   "source": [
    "cf =pd.read_csv(\"ipldata\\deliveries.csv\")"
   ]
  },
  {
   "cell_type": "code",
   "execution_count": 256,
   "metadata": {},
   "outputs": [],
   "source": [
    "dotballs = cf.query('batsman_runs == 0')"
   ]
  },
  {
   "cell_type": "code",
   "execution_count": 257,
   "metadata": {},
   "outputs": [
    {
     "data": {
      "text/plain": [
       "batsman\n",
       "V Kohli    1493\n",
       "Name: batsman_runs, dtype: int64"
      ]
     },
     "execution_count": 257,
     "metadata": {},
     "output_type": "execute_result"
    }
   ],
   "source": [
    "dotballs.groupby('batsman')['batsman_runs'].count().sort_values(ascending = False)[:1]"
   ]
  },
  {
   "cell_type": "markdown",
   "metadata": {},
   "source": [
    "## Which batsmen came to crease but never got a chance to face a ball?\n"
   ]
  },
  {
   "cell_type": "code",
   "execution_count": 259,
   "metadata": {},
   "outputs": [
    {
     "name": "stdout",
     "output_type": "stream",
     "text": [
      "['MJ McClenaghan']\n",
      "['DR Smith']\n",
      "['R Bhatia']\n",
      "['A Nehra']\n",
      "['Sandeep Sharma']\n",
      "['CH Morris']\n",
      "['MJ McClenaghan', 'MG Johnson']\n",
      "['MK Pandey']\n",
      "['PJ Cummins']\n",
      "['S Aravind']\n",
      "['JD Unadkat', 'A Nehra']\n",
      "['S Aravind']\n",
      "['S Nadeem']\n",
      "['Sandeep Sharma']\n",
      "['PP Ojha']\n",
      "['AB Dinda']\n",
      "['JDP Oram']\n",
      "['I Sharma']\n",
      "['Joginder Sharma']\n",
      "['SB Bangar', 'DP Vijaykumar']\n",
      "['A Nehra']\n",
      "['A Kumble']\n",
      "['S Sreesanth']\n",
      "['GD McGrath']\n",
      "['A Nel']\n",
      "['Z Khan']\n",
      "['MM Patel']\n",
      "['PR Shah']\n",
      "['DW Steyn']\n",
      "['T Kohli', 'PP Chawla']\n",
      "['L Balaji', 'DL Vettori']\n",
      "['R Vinay Kumar']\n",
      "['K Goel']\n",
      "['MS Gony']\n",
      "['Z Khan']\n",
      "['AB Agarkar']\n",
      "['RR Powar']\n",
      "['Y Venugopal Rao']\n",
      "['A Nehra', 'S Tyagi']\n",
      "['A Kumble']\n",
      "['SL Malinga']\n",
      "['RP Singh']\n",
      "['PP Chawla']\n",
      "['PJ Sangwan']\n",
      "['S Tyagi']\n",
      "['SK Warne']\n",
      "['AB Agarkar']\n",
      "['Jaskaran Singh']\n",
      "['SL Malinga', 'DS Kulkarni']\n",
      "['SA Asnodkar', 'Z Khan']\n",
      "['R Sathish']\n",
      "['AD Mathews']\n",
      "['SL Malinga']\n",
      "['AA Jhunjhunwala']\n",
      "['PP Ojha']\n",
      "['WP Saha']\n",
      "['SK Warne']\n",
      "['PP Ojha']\n",
      "['C Ganapathy']\n",
      "['Y Venugopal Rao']\n",
      "['S Anirudha']\n",
      "['Harmeet Singh', 'PP Ojha']\n",
      "['P Kumar']\n",
      "['SB Jakati']\n",
      "['Kamran Khan']\n",
      "['SB Jakati']\n",
      "['Harmeet Singh']\n",
      "['KA Pollard']\n",
      "['S Nadeem']\n",
      "['MK Tiwary']\n",
      "['AB Agarkar']\n",
      "['A Mithun']\n",
      "['M Kartik']\n",
      "['TL Suman']\n",
      "['MV Boucher']\n",
      "['JA Morkel']\n",
      "['RP Singh']\n",
      "['SK Trivedi']\n",
      "['I Sharma']\n",
      "['SL Malinga']\n",
      "['WP Saha']\n",
      "['A Mithun']\n",
      "['SL Malinga', 'DS Kulkarni']\n",
      "['SB Jakati']\n",
      "['RG Sharma']\n",
      "['S Badrinath']\n",
      "['R Sharma']\n",
      "['TP Sudhindra']\n",
      "['M Vijay']\n",
      "['Z Khan']\n",
      "['B Kumar']\n",
      "['PA Patel']\n",
      "['P Awana']\n",
      "['AB Agarkar']\n",
      "['LR Shukla']\n",
      "['M Kartik']\n",
      "['M Morkel']\n",
      "['PA Reddy']\n",
      "['MM Patel']\n",
      "['DW Steyn']\n",
      "['GB Hogg']\n",
      "['UT Yadav']\n",
      "['S Sreesanth']\n",
      "['DP Nannes']\n",
      "['A Mishra']\n",
      "['L Balaji', 'P Awana']\n",
      "['MS Gony']\n",
      "['JH Kallis']\n",
      "['PP Chawla']\n",
      "['I Sharma']\n",
      "['AT Rayudu']\n",
      "['G Gambhir']\n",
      "['M Rawat']\n",
      "['Harbhajan Singh', 'AT Rayudu']\n",
      "['I Sharma']\n",
      "['LJ Wright']\n",
      "['A Mishra']\n",
      "['S Kaul']\n",
      "['S Badrinath']\n",
      "['MM Patel']\n",
      "['DW Steyn']\n",
      "['NM Coulter-Nile']\n",
      "['BW Hilfenhaus']\n",
      "['AR Patel']\n",
      "['MA Starc']\n",
      "['STR Binny', 'YS Chahal']\n",
      "['Z Khan']\n",
      "['R Vinay Kumar']\n",
      "['WD Parnell']\n",
      "['AP Tare']\n",
      "['R Ashwin']\n",
      "['KK Cooper']\n",
      "['RN ten Doeschate']\n",
      "['R Vinay Kumar', 'Parvez Rasool']\n",
      "['KK Cooper']\n",
      "['SP Narine', 'M Morkel']\n",
      "['DJ Muthuswami']\n",
      "['TG Southee']\n",
      "['DJ Bravo']\n",
      "['PP Chawla']\n",
      "['R Vinay Kumar']\n",
      "['R Dhawan', 'MK Tiwary']\n",
      "['J Suchith']\n",
      "['JJ Bumrah']\n",
      "['Harbhajan Singh']\n",
      "['Mandeep Singh', 'MM Sharma', 'YS Chahal']\n",
      "['GJ Bailey', 'UT Yadav']\n",
      "['BE Hendricks']\n",
      "['HV Patel']\n",
      "['SN Khan']\n",
      "['RA Jadeja']\n",
      "['MG Johnson']\n",
      "['MJ McClenaghan']\n",
      "['HV Patel']\n",
      "['I Sharma']\n",
      "['SP Narine']\n",
      "['MM Sharma', 'KH Pandya']\n",
      "['A Nehra']\n",
      "['P Kumar']\n",
      "['GB Hogg']\n",
      "['S Kaushik']\n",
      "['VR Aaron']\n",
      "['DJ Bravo']\n",
      "['STR Binny']\n",
      "['R Bhatia']\n",
      "['GJ Maxwell']\n",
      "['BB Sran', 'M Morkel']\n",
      "['Washington Sundar']\n",
      "['SS Iyer', 'C Munro']\n",
      "['BB Sran']\n",
      "['S Mavi']\n",
      "['JD Unadkat']\n",
      "['CH Morris']\n",
      "['JD Unadkat']\n",
      "['Mohammed Siraj']\n",
      "['V Shankar']\n",
      "['RA Jadeja']\n",
      "['Basil Thampi']\n",
      "['RA Jadeja']\n",
      "['MJ McClenaghan']\n",
      "['J Archer']\n",
      "['KV Sharma']\n",
      "['R Ashwin']\n",
      "['PP Chawla']\n",
      "['JP Duminy']\n",
      "['V Shankar']\n",
      "['J Archer']\n",
      "['JP Duminy', 'BA Stokes']\n",
      "['S Gill', 'S Kaul']\n",
      "['Mustafizur Rahman']\n",
      "['PP Chawla']\n",
      "['P Krishna']\n",
      "['JJ Bumrah']\n",
      "['M Markande']\n",
      "['HV Patel']\n",
      "['JD Unadkat']\n",
      "['M Ur Rahman']\n",
      "['I Sharma']\n",
      "['A Joseph']\n",
      "['KH Pandya']\n",
      "['Kuldeep Yadav']\n",
      "['KA Pollard', 'Mohammed Siraj']\n",
      "['JD Unadkat']\n",
      "['YK Pathan']\n",
      "['KA Pollard', 'I Sharma', 'K Paul']\n",
      "['KD Karthik']\n",
      "['DW Steyn', 'SN Thakur']\n",
      "['SV Samson']\n",
      "['DJ Bravo']\n",
      "['Imran Tahir']\n",
      "['S Kaul']\n",
      "['UT Yadav']\n",
      "['UT Yadav']\n",
      "['Rashid Khan']\n",
      "['SP Narine']\n",
      "['TA Boult', 'B Kumar']\n",
      "['JJ Bumrah']\n"
     ]
    }
   ],
   "source": [
    "ws = cf[['match_id','batsman','non_striker']]\n",
    "for id ,group in ws.groupby('match_id'):\n",
    "    str1=set(group['non_striker'])\n",
    "    str2=set(group['batsman'])\n",
    "    st=str1-str2\n",
    "    if len(st):\n",
    "        print(list(str1-str2))\n"
   ]
  },
  {
   "cell_type": "code",
   "execution_count": null,
   "metadata": {},
   "outputs": [],
   "source": [
    "a = ws.groupby(['match_id','batsman']).count()\n",
    "b = ws.groupby(['match_id','non_striker']).count()"
   ]
  },
  {
   "cell_type": "markdown",
   "metadata": {},
   "source": [
    "## Which bowler has hit for maximum number of 1s/2s/3s/4s/6s?\n"
   ]
  },
  {
   "cell_type": "code",
   "execution_count": 260,
   "metadata": {},
   "outputs": [],
   "source": [
    "six = cf.query('total_runs == 6')"
   ]
  },
  {
   "cell_type": "code",
   "execution_count": 263,
   "metadata": {},
   "outputs": [
    {
     "data": {
      "text/plain": [
       "bowler\n",
       "PP Chawla    171\n",
       "Name: bowler, dtype: int64"
      ]
     },
     "execution_count": 263,
     "metadata": {},
     "output_type": "execute_result"
    }
   ],
   "source": [
    "six.groupby('bowler')['bowler'].count().sort_values(ascending = False)[:1]"
   ]
  },
  {
   "cell_type": "code",
   "execution_count": 266,
   "metadata": {},
   "outputs": [
    {
     "data": {
      "text/plain": [
       "bowler\n",
       "UT Yadav    389\n",
       "Name: bowler, dtype: int64"
      ]
     },
     "execution_count": 266,
     "metadata": {},
     "output_type": "execute_result"
    }
   ],
   "source": [
    "four = cf.query('total_runs == 4')\n",
    "four.groupby('bowler')['bowler'].count().sort_values(ascending = False)[:1]"
   ]
  },
  {
   "cell_type": "code",
   "execution_count": 268,
   "metadata": {},
   "outputs": [
    {
     "data": {
      "text/plain": [
       "bowler\n",
       "P Kumar    18\n",
       "Name: bowler, dtype: int64"
      ]
     },
     "execution_count": 268,
     "metadata": {},
     "output_type": "execute_result"
    }
   ],
   "source": [
    "three = cf.query('total_runs == 3')\n",
    "three.groupby('bowler')['bowler'].count().sort_values(ascending = False)[:1]"
   ]
  },
  {
   "cell_type": "code",
   "execution_count": 272,
   "metadata": {},
   "outputs": [
    {
     "data": {
      "text/plain": [
       "bowler\n",
       "P Kumar    18\n",
       "Name: bowler, dtype: int64"
      ]
     },
     "execution_count": 272,
     "metadata": {},
     "output_type": "execute_result"
    }
   ],
   "source": [
    "three = cf.query('total_runs == 3')\n",
    "three.groupby('bowler')['bowler'].count().sort_values(ascending = False)[:1]"
   ]
  },
  {
   "cell_type": "code",
   "execution_count": 273,
   "metadata": {},
   "outputs": [
    {
     "data": {
      "text/plain": [
       "bowler\n",
       "DJ Bravo    258\n",
       "Name: bowler, dtype: int64"
      ]
     },
     "execution_count": 273,
     "metadata": {},
     "output_type": "execute_result"
    }
   ],
   "source": [
    "two = cf.query('total_runs == 2')\n",
    "two.groupby('bowler')['bowler'].count().sort_values(ascending = False)[:1]\n"
   ]
  },
  {
   "cell_type": "code",
   "execution_count": 274,
   "metadata": {},
   "outputs": [
    {
     "data": {
      "text/plain": [
       "bowler\n",
       "Harbhajan Singh    1549\n",
       "Name: bowler, dtype: int64"
      ]
     },
     "execution_count": 274,
     "metadata": {},
     "output_type": "execute_result"
    }
   ],
   "source": [
    "one = cf.query('total_runs == 1')\n",
    "one.groupby('bowler')['bowler'].count().sort_values(ascending = False)[:1]"
   ]
  },
  {
   "cell_type": "markdown",
   "metadata": {},
   "source": [
    "## Which batsman got stumped out maximum number of times?"
   ]
  },
  {
   "cell_type": "code",
   "execution_count": 280,
   "metadata": {},
   "outputs": [
    {
     "data": {
      "text/plain": [
       "batsman\n",
       "SK Raina    8\n",
       "Name: batsman, dtype: int64"
      ]
     },
     "execution_count": 280,
     "metadata": {},
     "output_type": "execute_result"
    }
   ],
   "source": [
    "stumped = cf.query('dismissal_kind == \"stumped\"')\n",
    "stumped.groupby('batsman')['batsman'].count().sort_values(ascending = False)[:1]"
   ]
  },
  {
   "cell_type": "markdown",
   "metadata": {},
   "source": [
    "##  Which non-striker has been part of maximum number of runouts?"
   ]
  },
  {
   "cell_type": "code",
   "execution_count": 282,
   "metadata": {},
   "outputs": [
    {
     "data": {
      "text/plain": [
       "non_striker\n",
       "SK Raina      16\n",
       "KD Karthik    16\n",
       "Name: non_striker, dtype: int64"
      ]
     },
     "execution_count": 282,
     "metadata": {},
     "output_type": "execute_result"
    }
   ],
   "source": [
    "runouts = cf.query('dismissal_kind == \"run out\"')\n",
    "runouts.groupby('non_striker')['non_striker'].count().sort_values(ascending = False)[:2]"
   ]
  },
  {
   "cell_type": "markdown",
   "metadata": {},
   "source": [
    "## Which batsman hit maximum number of six?"
   ]
  },
  {
   "cell_type": "code",
   "execution_count": 283,
   "metadata": {},
   "outputs": [
    {
     "data": {
      "text/plain": [
       "batsman\n",
       "CH Gayle          322\n",
       "AB de Villiers    211\n",
       "Name: batsman, dtype: int64"
      ]
     },
     "execution_count": 283,
     "metadata": {},
     "output_type": "execute_result"
    }
   ],
   "source": [
    "hitsix = cf.query('total_runs == 6')\n",
    "hitsix.groupby('batsman')['batsman'].count().sort_values(ascending = False)[:2]"
   ]
  },
  {
   "cell_type": "markdown",
   "metadata": {},
   "source": [
    "## Which batsman played maximum no. of balls?"
   ]
  },
  {
   "cell_type": "code",
   "execution_count": 284,
   "metadata": {},
   "outputs": [
    {
     "data": {
      "text/plain": [
       "batsman\n",
       "V Kohli     4211\n",
       "SK Raina    4044\n",
       "Name: batsman, dtype: int64"
      ]
     },
     "execution_count": 284,
     "metadata": {},
     "output_type": "execute_result"
    }
   ],
   "source": [
    "cf.groupby('batsman')['batsman'].count().sort_values(ascending = False)[:2]"
   ]
  },
  {
   "cell_type": "markdown",
   "metadata": {},
   "source": [
    "## Which venue  hosted maximum no . of matches?"
   ]
  },
  {
   "cell_type": "code",
   "execution_count": 286,
   "metadata": {},
   "outputs": [
    {
     "data": {
      "text/plain": [
       "venue\n",
       "Eden Gardens        77\n",
       "Wankhede Stadium    73\n",
       "Name: venue, dtype: int64"
      ]
     },
     "execution_count": 286,
     "metadata": {},
     "output_type": "execute_result"
    }
   ],
   "source": [
    "df.groupby('venue')['venue'].count().sort_values(ascending = False)[:2]"
   ]
  },
  {
   "cell_type": "code",
   "execution_count": null,
   "metadata": {},
   "outputs": [],
   "source": []
  }
 ],
 "metadata": {
  "kernelspec": {
   "display_name": "Python 3",
   "language": "python",
   "name": "python3"
  },
  "language_info": {
   "codemirror_mode": {
    "name": "ipython",
    "version": 3
   },
   "file_extension": ".py",
   "mimetype": "text/x-python",
   "name": "python",
   "nbconvert_exporter": "python",
   "pygments_lexer": "ipython3",
   "version": "3.7.3"
  }
 },
 "nbformat": 4,
 "nbformat_minor": 2
}
